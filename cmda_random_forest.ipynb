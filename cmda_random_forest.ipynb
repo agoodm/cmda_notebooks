{
 "cells": [
  {
   "cell_type": "code",
   "execution_count": null,
   "metadata": {},
   "outputs": [],
   "source": [
    "from io import BytesIO\n",
    "import requests\n",
    "import xarray as xr\n",
    "import hvplot.xarray\n",
    "\n",
    "def download_data(url):\n",
    "    r = requests.get(url)\n",
    "    buf = BytesIO(r.content)\n",
    "    return xr.open_dataset(buf)\n",
    "\n",
    "model1, model2, model3 = 'GFDL_ESM2G', 'GFDL_ESM2G', 'GFDL_ESM2G'\n",
    "var1, var2, var3 = 'cct', 'cl', 'cli'\n",
    "pres1, pres2, pres3 = -999999, 500, 500\n",
    "\n",
    "# Generate data remotely\n",
    "cmda_url = 'http://ec2-52-53-95-229.us-west-1.compute.amazonaws.com:8080/svc/randomForest'\n",
    "query = dict(model1=model1, var1=var1, pres1=pres1, model2=model2, var2=var2, pres2=pres2, \n",
    "             model3=model3, var3=var3, pres3=pres3, lonS=0, lonE=360, latS=-90, latE=90, timeS=200401, timeE=200412, nVar=2)\n",
    "r = requests.get(cmda_url, params=query)\n",
    "data_url = r.json()['dataUrl']\n",
    "\n",
    "# Download data into xarray Dataset object\n",
    "ds = download_data(data_url).assign_coords(index=[f'{model2}:{var2}', f'{model3}:{var3}']).rename(importance=f'importance to predict {model1}:{var1}')\n",
    "ds"
   ]
  },
  {
   "cell_type": "code",
   "execution_count": null,
   "metadata": {},
   "outputs": [],
   "source": [
    "ds.hvplot.bar(x='index', y=f'importance to predict {model1}:{var1}', width=1000, height=500)"
   ]
  },
  {
   "cell_type": "code",
   "execution_count": null,
   "metadata": {},
   "outputs": [],
   "source": []
  }
 ],
 "metadata": {
  "kernelspec": {
   "display_name": "Python 3",
   "language": "python",
   "name": "python3"
  },
  "language_info": {
   "codemirror_mode": {
    "name": "ipython",
    "version": 3
   },
   "file_extension": ".py",
   "mimetype": "text/x-python",
   "name": "python",
   "nbconvert_exporter": "python",
   "pygments_lexer": "ipython3",
   "version": "3.6.10"
  }
 },
 "nbformat": 4,
 "nbformat_minor": 4
}
