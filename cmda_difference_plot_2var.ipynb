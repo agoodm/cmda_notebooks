{
 "cells": [
  {
   "cell_type": "code",
   "execution_count": 5,
   "metadata": {},
   "outputs": [
    {
     "name": "stdout",
     "output_type": "stream",
     "text": [
      "http://ec2-52-53-95-229.us-west-1.compute.amazonaws.com:8080/svc/diffPlot2Vars?model1=GFDL_ESM2G&var1=cct&pres1=-999999&model2=GFDL_ESM2G&var2=cct&pres2=-999999&purpose=&lonS=0&lonE=360&latS=-90&latE=90&timeS=200401&timeE=200412&ferretLevel1=&ferretLevel2=&ferretLevel3=&colorMap1=rainbow&colorMap2=rainbow&colorMap3=rainbow\n",
      "404\n",
      "<!DOCTYPE HTML PUBLIC \"-//W3C//DTD HTML 3.2 Final//EN\">\n",
      "<title>404 Not Found</title>\n",
      "<h1>Not Found</h1>\n",
      "<p>The requested URL was not found on the server.  If you entered the URL manually please check your spelling and try again.</p>\n",
      "\n"
     ]
    }
   ],
   "source": [
    "# Currently not working as of June 12, 2020\n",
    "# No API - 404 on url - http://ec2-52-53-95-229.us-west-1.compute.amazonaws.com:8080/svc/diffPlot2Vars\n",
    "\n",
    "from io import BytesIO\n",
    "import requests\n",
    "import xarray as xr\n",
    "import hvplot.xarray\n",
    "\n",
    "def download_data(url):\n",
    "    r = requests.get(url)\n",
    "    buf = BytesIO(r.content)\n",
    "    return xr.open_dataset(buf)\n",
    "\n",
    "# Generate data remotely\n",
    "cmda_url = 'http://ec2-52-53-95-229.us-west-1.compute.amazonaws.com:8080/svc/diffPlot2Vars'\n",
    "\n",
    "query = dict(\n",
    "    model1='GFDL_ESM2G',\n",
    "    var1='cct',\n",
    "    pres1=-999999,\n",
    "    model2='GFDL_ESM2G',\n",
    "    var2='cct',\n",
    "    pres2=-999999,\n",
    "    purpose='',\n",
    "    lonS=0,\n",
    "    lonE=360,\n",
    "    latS=-90,\n",
    "    latE=90,\n",
    "    timeS=200401,\n",
    "    timeE=200412,\n",
    "    ferretLevel1='',\n",
    "    ferretLevel2='',\n",
    "    ferretLevel3='',\n",
    "    colorMap1='rainbow',\n",
    "    colorMap2='rainbow',\n",
    "    colorMap3='rainbow',\n",
    ")\n",
    "        \n",
    "r = requests.get(cmda_url, params=query)\n",
    "print(r.url)\n",
    "print(r.status_code)\n",
    "print(r.text)"
   ]
  },
  {
   "cell_type": "code",
   "execution_count": null,
   "metadata": {},
   "outputs": [],
   "source": [
    "# Download data into xarray Dataset object\n",
    "data_url = r.json()['dataUrl']\n",
    "ds = download_data(data_url)\n",
    "print(ds.info())\n",
    "ds"
   ]
  }
 ],
 "metadata": {
  "kernelspec": {
   "display_name": "Python 3",
   "language": "python",
   "name": "python3"
  },
  "language_info": {
   "codemirror_mode": {
    "name": "ipython",
    "version": 3
   },
   "file_extension": ".py",
   "mimetype": "text/x-python",
   "name": "python",
   "nbconvert_exporter": "python",
   "pygments_lexer": "ipython3",
   "version": "3.7.6"
  }
 },
 "nbformat": 4,
 "nbformat_minor": 4
}
