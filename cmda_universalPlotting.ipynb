{
 "cells": [
  {
   "cell_type": "code",
   "execution_count": 1,
   "metadata": {},
   "outputs": [
    {
     "ename": "SyntaxError",
     "evalue": "invalid syntax (<ipython-input-1-1fd9d9c53138>, line 20)",
     "output_type": "error",
     "traceback": [
      "\u001b[0;36m  File \u001b[0;32m\"<ipython-input-1-1fd9d9c53138>\"\u001b[0;36m, line \u001b[0;32m20\u001b[0m\n\u001b[0;31m    model1=NASA/MODIS&\u001b[0m\n\u001b[0m          ^\u001b[0m\n\u001b[0;31mSyntaxError\u001b[0m\u001b[0;31m:\u001b[0m invalid syntax\n"
     ]
    }
   ],
   "source": [
    "from io import BytesIO\n",
    "import requests\n",
    "import xarray as xr\n",
    "import hvplot.xarray\n",
    "from skimage import io\n",
    "import cartopy.crs as ccrs \n",
    "import matplotlib.pyplot as plt\n",
    "\n",
    "def download_data(url):\n",
    "    r = requests.get(url)\n",
    "    buf = BytesIO(r.content)\n",
    "    return xr.open_dataset(buf)\n",
    "\n",
    "# Generate data remotely\n",
    "cmda_url = 'http://ec2-52-53-95-229.us-west-1.compute.amazonaws.com:8080/svc/universalPlotting3b'\n",
    "\n",
    "# build query\n",
    "query = dict(\n",
    "    var1='clt',\n",
    "    model1='NASA/MODIS',\n",
    "    lonMethod=3,\n",
    "    latMethod=3,\n",
    "    presMethod=0,\n",
    "    timeMethod=1,\n",
    "    lonS=0,\n",
    "    lonE=360,\n",
    "    latS=-90,\n",
    "    latE=90,\n",
    "    presS=-999999,\n",
    "    presE=-999999,\n",
    "    timeS=200003,\n",
    "    timeE=20011215,\n",
    "    anomaly=0,\n",
    "    ferretLevel=10,\n",
    "    colorMap='rainbow',\n",
    "    plotTitle='',\n",
    "    plotType='undefined',\n",
    "    inputSource=3,\n",
    "    varA='',\n",
    "    varB='',\n",
    "    onlineFile='/home/svc/upload/coads_climatology.cdf',\n",
    "    uploadFile='',\n",
    "    uploadServerFile='',\n",
    "    purpose='',\n",
    "    userId='',\n",
    "    serviceId=''\n",
    ")\n",
    "\n",
    "# \n",
    "r = requests.get(cmda_url, params=query)\n",
    "print(r.url)\n",
    "print(r.status_code)\n",
    "# print(r.text)"
   ]
  }
 ],
 "metadata": {
  "kernelspec": {
   "display_name": "Python 3",
   "language": "python",
   "name": "python3"
  },
  "language_info": {
   "codemirror_mode": {
    "name": "ipython",
    "version": 3
   },
   "file_extension": ".py",
   "mimetype": "text/x-python",
   "name": "python",
   "nbconvert_exporter": "python",
   "pygments_lexer": "ipython3",
   "version": "3.7.6"
  }
 },
 "nbformat": 4,
 "nbformat_minor": 4
}
