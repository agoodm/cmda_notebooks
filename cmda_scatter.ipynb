{
 "cells": [
  {
   "cell_type": "code",
   "execution_count": null,
   "metadata": {},
   "outputs": [],
   "source": [
    "from io import BytesIO\n",
    "import numpy as np\n",
    "import requests\n",
    "import xarray as xr\n",
    "import hvplot.xarray\n",
    "import hvplot.pandas\n",
    "\n",
    "def download_data(url, **kwargs):\n",
    "    r = requests.get(url)\n",
    "    buf = BytesIO(r.content)\n",
    "    return xr.open_dataset(buf, **kwargs)    \n",
    "\n",
    "# Generate data remotely\n",
    "cmda_url = 'http://ec2-52-53-95-229.us-west-1.compute.amazonaws.com:8080/svc/scatterPlot2Vars'\n",
    "model1, var1 = 'NCAR_CAM5', 'tos'\n",
    "model2, var2 = 'NCAR_CAM5', 'wap'\n",
    "nSample = 10000\n",
    "width, height = 1000, 500\n",
    "v1 = f'{model1}:{var1}'\n",
    "v2 = f'{model2}:{var2}'\n",
    "query = dict(model1=model1, var1=var1, pres1=-999999, model2=model2, var2=var2, \n",
    "             pres2=900, lonS=0, lonE=360, latS=-20, latE=20, timeS=200501, timeE=200512, nSample=nSample)\n",
    "r = requests.get(cmda_url, params=query)\n",
    "data_url = r.json()['dataUrl']\n",
    "\n",
    "# Download data into xarray Dataset object\n",
    "ds = download_data(data_url, decode_times=False).rename(data1=v1, data2=v2)\n",
    "ds"
   ]
  },
  {
   "cell_type": "code",
   "execution_count": null,
   "metadata": {},
   "outputs": [],
   "source": [
    "pts = ds.stack(pt=['time', 'lat', 'lon']).reset_index('pt').dropna('pt')\n",
    "pts = pts.isel(pt=np.random.choice(np.arange(pts.pt.size), nSample, replace=False))\n",
    "corr = np.corrcoef(pts[v1], pts[v2])[0, 1]\n",
    "pts.reset_coords().to_dataframe().hvplot.scatter(x=v1, y=v2, title=f'Correlation: {corr:1.2}', width=width, height=height)"
   ]
  },
  {
   "cell_type": "code",
   "execution_count": null,
   "metadata": {},
   "outputs": [],
   "source": [
    "pts.hvplot.hist(y=v1, width=width, height=height, normed=True)"
   ]
  },
  {
   "cell_type": "code",
   "execution_count": null,
   "metadata": {},
   "outputs": [],
   "source": [
    "pts.hvplot.hist(y=v2, width=width, height=height, bin_range=(-.1, .06), normed=True)"
   ]
  },
  {
   "cell_type": "code",
   "execution_count": null,
   "metadata": {},
   "outputs": [],
   "source": []
  }
 ],
 "metadata": {
  "kernelspec": {
   "display_name": "Python 3",
   "language": "python",
   "name": "python3"
  },
  "language_info": {
   "codemirror_mode": {
    "name": "ipython",
    "version": 3
   },
   "file_extension": ".py",
   "mimetype": "text/x-python",
   "name": "python",
   "nbconvert_exporter": "python",
   "pygments_lexer": "ipython3",
   "version": "3.7.6"
  }
 },
 "nbformat": 4,
 "nbformat_minor": 4
}
