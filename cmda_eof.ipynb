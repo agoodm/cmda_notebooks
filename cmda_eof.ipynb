{
 "cells": [
  {
   "cell_type": "code",
   "execution_count": null,
   "metadata": {},
   "outputs": [],
   "source": [
    "from io import BytesIO\n",
    "import cartopy.crs as ccrs \n",
    "import numpy as np\n",
    "import requests\n",
    "import xarray as xr\n",
    "import hvplot.xarray\n",
    "\n",
    "def download_data(url, **kwargs):\n",
    "    r = requests.get(url)\n",
    "    buf = BytesIO(r.content)\n",
    "    return xr.open_dataset(buf, **kwargs)    \n",
    "\n",
    "# Generate data remotely\n",
    "cmda_url = 'http://ec2-52-53-95-229.us-west-1.compute.amazonaws.com:8080/svc/EOF'\n",
    "model1, var1, pres1 = 'GFDL_ESM2G', 'cct', -999999\n",
    "width, height = 1000, 500\n",
    "v1 = f'{model1}:{var1}'\n",
    "query = dict(model1=model1, var1=var1, pres1=-999999, lonS=0, lonE=360, latS=-90, latE=90, timeS=200401, timeE=200412, anomaly=0)\n",
    "r = requests.get(cmda_url, params=query)\n",
    "data_url = r.json()['dataUrl']\n",
    "\n",
    "# Download data into xarray Dataset object\n",
    "ds = download_data(data_url).rename(index='EOF')\n",
    "ds"
   ]
  },
  {
   "cell_type": "code",
   "execution_count": null,
   "metadata": {},
   "outputs": [],
   "source": [
    "ds.patterns.hvplot.quadmesh('lon', 'lat', widget_location='bottom', projection=ccrs.PlateCarree(), crs=ccrs.PlateCarree(), geo=True, coastline=True)"
   ]
  },
  {
   "cell_type": "code",
   "execution_count": null,
   "metadata": {},
   "outputs": [],
   "source": [
    "ds.tser.hvplot.line(x='time', y='tser', title='PC')"
   ]
  }
 ],
 "metadata": {
  "kernelspec": {
   "display_name": "Python 3",
   "language": "python",
   "name": "python3"
  },
  "language_info": {
   "codemirror_mode": {
    "name": "ipython",
    "version": 3
   },
   "file_extension": ".py",
   "mimetype": "text/x-python",
   "name": "python",
   "nbconvert_exporter": "python",
   "pygments_lexer": "ipython3",
   "version": "3.6.10"
  }
 },
 "nbformat": 4,
 "nbformat_minor": 4
}
