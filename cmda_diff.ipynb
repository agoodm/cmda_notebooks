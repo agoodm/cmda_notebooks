{
 "cells": [
  {
   "cell_type": "code",
   "execution_count": null,
   "metadata": {},
   "outputs": [],
   "source": [
    "from io import BytesIO\n",
    "import cartopy.crs as ccrs \n",
    "import numpy as np\n",
    "import requests\n",
    "import xarray as xr\n",
    "import hvplot.xarray\n",
    "\n",
    "def download_data(url, **kwargs):\n",
    "    r = requests.get(url)\n",
    "    buf = BytesIO(r.content)\n",
    "    return xr.open_dataset(buf, **kwargs)    \n",
    "\n",
    "# Generate data remotely\n",
    "cmda_url = 'http://ec2-52-53-95-229.us-west-1.compute.amazonaws.com:8080/svc/diffPlot2V'\n",
    "model1, var1 = 'GFDL_ESM2G', 'clt'\n",
    "model2, var2 = 'NASA_MODIS', 'clt'\n",
    "nSample = 10000\n",
    "width, height = 1000, 500\n",
    "v1 = f'{model1}:{var1}'\n",
    "v2 = f'{model2}:{var2}'\n",
    "cmap1, cmap2, cmap3 = 'bwr', 'rainbow', 'rainbow'\n",
    "query = dict(model1=model1, var1=var1, pres1=-999999, model2=model2, var2=var2, \n",
    "             pres2=900, lonS=0, lonE=360, latS=-90, latE=90, timeS=200003, timeE=200512, colorMap1=cmap1, colorMap2=cmap2, colorMap3=cmap3)\n",
    "r = requests.get(cmda_url, params=query)\n",
    "data_url = r.json()['dataUrl']\n",
    "\n",
    "# Download data into xarray Dataset object\n",
    "ds = download_data(data_url, decode_times=False).rename(data1=v1, data2=v2)\n",
    "ds"
   ]
  },
  {
   "cell_type": "code",
   "execution_count": null,
   "metadata": {},
   "outputs": [],
   "source": [
    "ds.hvplot.quadmesh('lon', 'lat', 'diff', geo=True, cmap=cmap1, projection=ccrs.PlateCarree(), crs=ccrs.PlateCarree(), coastline=True, width=800, height=400)"
   ]
  },
  {
   "cell_type": "code",
   "execution_count": null,
   "metadata": {},
   "outputs": [],
   "source": [
    "ds.hvplot.quadmesh('lon', 'lat', v1, geo=True, cmap=cmap2, projection=ccrs.PlateCarree(), crs=ccrs.PlateCarree(), coastline=True, width=800, height=400)"
   ]
  },
  {
   "cell_type": "code",
   "execution_count": null,
   "metadata": {},
   "outputs": [],
   "source": [
    "ds.hvplot.quadmesh('lon', 'lat', v2, geo=True, cmap=cmap3, projection=ccrs.PlateCarree(), crs=ccrs.PlateCarree(), coastline=True, width=800, height=400)"
   ]
  },
  {
   "cell_type": "code",
   "execution_count": null,
   "metadata": {},
   "outputs": [],
   "source": []
  }
 ],
 "metadata": {
  "kernelspec": {
   "display_name": "Python 3",
   "language": "python",
   "name": "python3"
  }
 },
 "nbformat": 4,
 "nbformat_minor": 4
}
